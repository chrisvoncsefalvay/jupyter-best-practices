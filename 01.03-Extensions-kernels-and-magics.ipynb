{
 "cells": [
  {
   "cell_type": "markdown",
   "metadata": {},
   "source": [
    "# General"
   ]
  },
  {
   "cell_type": "markdown",
   "metadata": {},
   "source": [
    "This chapter outlines the principal rules applicable to compliant use of certain features that extend the functionality of a Notebook. These are:\n",
    "\n",
    "* Kernels;\n",
    "* Nbextensions; and\n",
    "* Magics.\n",
    "\n",
    "These terms carry the meaning in 01.01–1.1.2."
   ]
  },
  {
   "cell_type": "markdown",
   "metadata": {},
   "source": [
    "# Kernels"
   ]
  },
  {
   "cell_type": "markdown",
   "metadata": {},
   "source": [
    "## Kernel choice"
   ]
  },
  {
   "cell_type": "markdown",
   "metadata": {},
   "source": [
    "> **RULE 01.03-2.1(1)**  \n",
    "> Unless warranted by extraordinary circumstances, a Project **SHALL NOT** use Kernels representing multiple versions of the same language. All notebooks using a particular language **SHALL** use the same Kernel."
   ]
  },
  {
   "cell_type": "markdown",
   "metadata": {},
   "source": [
    "**Commentary**\n",
    "\n",
    "In general, this only arises in the context of Python, where both Python 2 and Python 3 are available as separate Kernels in some installations. In general, using both shall generally be avoided."
   ]
  },
  {
   "cell_type": "markdown",
   "metadata": {},
   "source": [
    "## Using Bash Kernels"
   ]
  },
  {
   "cell_type": "markdown",
   "metadata": {},
   "source": [
    "> **RULE 01.03-2.2(1)**  \n",
    "> Where Bash code is to be executed that directly and irreversibly manipulates the file system, such code **MUST** be in a separate Notebook running a Bash Kernel."
   ]
  },
  {
   "cell_type": "markdown",
   "metadata": {},
   "source": [
    "**Commentary**\n",
    "\n",
    "Using the `!` prefix, shell commands can be executed from any notebook. The commands will be executed\n",
    "\n",
    "* if running Jupyterhub with PAM authentication: with the permissions of the logged in user;\n",
    "* if running Jupyterhub with OAuth authentication: with the permissions of the PAM user 'mirroring' the OAuth user; and\n",
    "* if running a single-user Notebook server: with the permissions of the user running the server.\n",
    "\n",
    "So for instance, the following can be used to install `python-twitter` from a Python 3 notebook:\n",
    "\n",
    "```\n",
    "In  [1]: !pip3 install --user python-twitter\n",
    "Out [1]: Collecting python-twitter\n",
    "  Downloading https://files.pythonhosted.org/packages/e6/2c/9fc6565b57ce6f3cc8e20b6c4bde8960dd0857629d41654bce46a6dd0bf9/python_twitter-3.4.2-py2.py3-none-any.whl (61kB)\n",
    "    100% |████████████████████████████████| 71kB 5.2MB/s ta 0:00:011\n",
    "\n",
    "   <... some rows truncated ...>\n",
    "\n",
    "Installing collected packages: oauthlib, requests-oauthlib, python-twitter\n",
    "Successfully installed oauthlib-2.1.0 python-twitter-3.4.2 requests-oauthlib-1.0.0\n",
    "You are using pip version 9.0.3, however version 10.0.1 is available.\n",
    "You should consider upgrading via the 'pip install --upgrade pip' command.\n",
    "```\n",
    "\n",
    "The risk is that code may be executed that causes irreversible data loss. For this reason, the use of `!` shells is discouraged in general, but may be appropriate in some cases. However, its use is to be strictly avoided, as Rule (1) suggests, where it makes irreversible changes to files, or deletes files. In such cases, a separate Notebook utilising the `bash` Kernel may be more appropriate. As a matter of safety, using the `!` shell invocation syntax ought to be restricted to calls to `pip`/`pip3`."
   ]
  },
  {
   "cell_type": "markdown",
   "metadata": {},
   "source": [
    "## Kernel specification"
   ]
  },
  {
   "cell_type": "markdown",
   "metadata": {},
   "source": [
    "> **RULE 01.03-2.1(1)**  \n",
    ">If a Project involves a Notebook or multiple Notebooks that use a Python Kernel, the `README.md` file of the project **MUST** specify \n",
    ">\n",
    "> 1.  the version of the underlying Interpreter; and  \n",
    "> 1.  the name and version of all major non-`base` packages imported by any of the Notebooks in the Project."
   ]
  },
  {
   "cell_type": "markdown",
   "metadata": {},
   "source": [
    "> **RULE 01.03-2.1(2)**  \n",
    ">If a Project involves a Notebook or multiple Notebooks that use a Kernel other than Python, the `README.md` file of the project **MUST** specify \n",
    ">\n",
    "> 1. the name of the Kernel;  \n",
    "> 1. the version of the underlying Interpreter; and  \n",
    "> 1. the installation instructions of the requisite Kernel."
   ]
  },
  {
   "cell_type": "markdown",
   "metadata": {},
   "source": [
    "> **RULE 01.03-2.1(3)**  \n",
    "> By way of derogation from RULE 01.03-2.1(2), if the requisite Kernel can be installed adequately using only Python packages, the requirement in RULE 01.03-2.1(2) **MAY** be satisfied by including the relevant package(s) in the Requirements File."
   ]
  },
  {
   "cell_type": "markdown",
   "metadata": {},
   "source": [
    "> **RULE 01.03-2.1(4)**  \n",
    "> In a Project using only a single Python Kernel, Rule 01.03-2.1(1) **MAY** be satisfied by using Watermark within the main Notebook, a separate watermark Notebook, or pasting its output into the `README.md` file."
   ]
  },
  {
   "cell_type": "markdown",
   "metadata": {},
   "source": [
    "> **RULE 01.03-2.1(5)**  \n",
    "> The following rules apply if and only if `Watermark` is being used in any of the ways described in Rule 01.03-2.1(4).\n",
    "> 1. The switch for printing the current Python version (`-v`) **MUST** be selected.\n",
    "> 1. Either the switch for listing all imports (`-iv`), or the parameter `-p` followed by a no-space comma separated list of all crucial packages, **MUST** be passed to the `%watermark` magic, pursuant to paragraph (3) of this Rule.\n",
    "> 1. Where there is an aliased impost of a submodule, the switch listing all imports (`-iv`) **MUST NOT** be used. Instead, the `-p` parameter **MUST** be used, together with a comma separated unspaced list of the top level names of all imports **MUST** be passed on to the `%watermark` magic."
   ]
  },
  {
   "cell_type": "markdown",
   "metadata": {},
   "source": [
    "###### Commentary\n",
    "\n",
    "The Rules in this section serve to clarify ways to specify the Kernel to ensure reproducibility (see 01.01-1.2, **OP02**: Reproducibility).\n",
    "  \n",
    "\n",
    "**The `%watermark` magic**\n",
    "\n",
    "[Watermark](https://github.com/rasbt/watermark) freezes and displays version numbers for selected packages as well as information about Python and selected packages. After installing it using `pip3 install watermark`, it can be loaded using `%load_ext` and invoked using `watermark`:\n",
    "\n",
    "![](assets/01.03/D0F2C29E-31B0-4007-9984-B6E8EE58419A.jpeg)\n",
    "  \n",
    "\n",
    "**When to use `-iv` and when to use `-p`**\n",
    "\n",
    "In general, `%watermark` may be called in two ways:\n",
    "\n",
    "* `%watermark -iv` allows Watermark to figure out which packages do need to be listed, and\n",
    "* `%watermark -p <package_1>,<package_2>,...` shows the version numbers of the specified packages only.\n",
    "\n",
    "You should use `-iv` **IF AND ONLY IF** **all** imports are either\n",
    "\n",
    "* unaliased (e.g. `import matplotlib` or `import matplotlib.pyplot`), **OR**\n",
    "* aliased core packages (e.g. `import matplotlib as mp`, but **not** `matplotlib.pyplot`).\n",
    "\n",
    "\n",
    "**What if I cannot use `-iv`?**\n",
    "\n",
    "Simply use `-p` and list all the major packages you are using, in an unspaced, comma separated list. It is not important to put them in any specific order. Make sure you **only list the root package**, e.g. for `matplotlib.pyplot.hist`, you should list `matplotlib` only.\n",
    "\n",
    "\n",
    "    %load_ext watermark\n",
    "    import numpy as np\n",
    "    from matplotlib.pyplot import hist as histogram\n",
    "\n",
    "    # Incorrect – it will omit matplotlib:\n",
    "    %watermark -iv\n",
    "    \n",
    "    # Incorrect - it will not resolve the alias \n",
    "    # and raise a ModuleNotFoundError:\n",
    "    %watermark -p numpy,histogram\n",
    "   \n",
    "    # Also incorrect, though it will work:\n",
    "    %watermark -p numpy,matplotlib.pyplot\n",
    "\n",
    "    # Correct\n",
    "    %watermark -p numpy,matplotlib\n",
    "    \n",
    "![](assets/01.03/B8B30B87-17DB-40FA-AAC5-3D8E329609E3.jpeg)"
   ]
  }
 ],
 "metadata": {
  "kernelspec": {
   "display_name": "Python 3",
   "language": "python",
   "name": "python3"
  },
  "language_info": {
   "codemirror_mode": {
    "name": "ipython",
    "version": 3
   },
   "file_extension": ".py",
   "mimetype": "text/x-python",
   "name": "python",
   "nbconvert_exporter": "python",
   "pygments_lexer": "ipython3",
   "version": "3.6.5"
  },
  "toc": {
   "base_numbering": 1,
   "nav_menu": {},
   "number_sections": true,
   "sideBar": true,
   "skip_h1_title": false,
   "title_cell": "Table of Contents",
   "title_sidebar": "Contents",
   "toc_cell": false,
   "toc_position": {},
   "toc_section_display": true,
   "toc_window_display": false
  },
  "varInspector": {
   "cols": {
    "lenName": 16,
    "lenType": 16,
    "lenVar": 40
   },
   "kernels_config": {
    "python": {
     "delete_cmd_postfix": "",
     "delete_cmd_prefix": "del ",
     "library": "var_list.py",
     "varRefreshCmd": "print(var_dic_list())"
    },
    "r": {
     "delete_cmd_postfix": ") ",
     "delete_cmd_prefix": "rm(",
     "library": "var_list.r",
     "varRefreshCmd": "cat(var_dic_list()) "
    }
   },
   "types_to_exclude": [
    "module",
    "function",
    "builtin_function_or_method",
    "instance",
    "_Feature"
   ],
   "window_display": false
  }
 },
 "nbformat": 4,
 "nbformat_minor": 2
}
