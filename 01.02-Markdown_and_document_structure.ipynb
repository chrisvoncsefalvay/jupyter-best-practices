{
 "cells": [
  {
   "cell_type": "markdown",
   "metadata": {},
   "source": [
    "# Markdown"
   ]
  },
  {
   "cell_type": "markdown",
   "metadata": {},
   "source": [
    "# Document structure"
   ]
  },
  {
   "cell_type": "markdown",
   "metadata": {},
   "source": [
    "## Use of headings"
   ]
  },
  {
   "cell_type": "markdown",
   "metadata": {},
   "source": [
    "> **RULE 01.02–2.1(1)**: Notebooks **MUST** be subdivided into Parts by Headings.\n",
    "\n",
    "> **RULE 01.02–2.1(2)**: Headings **SHALL** be meaningful, descriptive and short. Headings **SHALL** not exceed 70 characters in length.\n",
    "\n",
    "> **RULE 01.02–2.1(3)**: Headings **MAY**, when necessary, contain LaTeX content."
   ]
  },
  {
   "cell_type": "markdown",
   "metadata": {},
   "source": [
    "**Commentary**\n",
    "\n",
    "Headings serve a number of important purposes – most importantly,\n",
    "\n",
    "* they assist in _navigating_ the Notebook;\n",
    "* they _split_ the Notebook into _contextually connected_ parts; and\n",
    "* they allow parts of the Notebook to be _collapsed_."
   ]
  },
  {
   "cell_type": "markdown",
   "metadata": {},
   "source": [
    "### Levels of headings"
   ]
  },
  {
   "cell_type": "markdown",
   "metadata": {},
   "source": [
    "> **RULE 01.02–2.1.1(1)**: Notebooks **MUST NOT** utilize more than three levels of headings. These **SHALL** be referred to as **Level One**, **Level Two** and **Level Three Heading**s, respectively.\n",
    "\n",
    "> **RULE 01.02–2.1.1(2)**: A Cell **MUST NOT** contain more than one subsection, although a subsection **MAY** comprise multiple cells.\n",
    "\n",
    "> **RULE 01.02–2.1.1(3)**: The content headed by a Level One Header **MAY** be referred to as a **Chapter**. The content headed by a Level Two Header **MAY** be referred to as a **Section**. The content headed by a Level Three Header **MAY** be referred to as a **Subsection**.\n",
    "\n",
    "> **RULE 01.02–2.1.1(4)**: For the avoidance of doubt, a Cell under a Heading of any Heading Level **MAY** contain any content.\n",
    "\n",
    "**Commentary**\n",
    "\n",
    "Rule (4) is intended to clarify that Code Cells or Cells of any other content do not need to be in a Leaf Cell."
   ]
  },
  {
   "cell_type": "markdown",
   "metadata": {},
   "source": [
    "### Placement of headings"
   ]
  },
  {
   "cell_type": "markdown",
   "metadata": {},
   "source": [
    "> **RULE 01.02–2.1.2(1)**: Level One and Level Two Headings **MUST** be in a Cell of their own. A Cell containing a Level One or a Level Two Heading **MAY NOT** contain any other elements.\n",
    "\n",
    "> **RULE 01.02–2.1.2(2)**: For Subsections that consist of more than a single Cell of Markdown content, Level Three Headings **MUST** be in a Cell of their own.\n",
    "\n",
    "> **RULE 01.02–2.1.2(3)**: For Subsections that consist of more than a single Cell of Markdown content, Level Three Headings **SHOULD** be in a cell of their own.\n",
    "\n",
    "**Commentary**\n",
    "\n",
    "Two rationales exist for keeping headings separate.\n",
    "\n",
    "* Historically, the `Heading` Cell type existed as a separate Cell type, and could only contain Headings. This has now been replaced by regular Markdown Cells, but for the sake of hsitorical continuity, it is sensible to deem them to be generally separate from the substance of their Chapter, Section or Subsection.\n",
    "* More practically, the main code folding `Nbextension`, [`collapsible-headings`](http://jupyter-contrib-nbextensions.readthedocs.io/en/latest/nbextensions/collapsible_headings/readme.html), can only fold Cells under other Cells – in other words, it cannot partially fold a Cell at the point of a Heading. Therefore, the content to be folded must be in other Cells."
   ]
  },
  {
   "cell_type": "markdown",
   "metadata": {},
   "source": [
    "## Notebook title"
   ]
  },
  {
   "cell_type": "markdown",
   "metadata": {},
   "source": [
    "> **RULE 01.02–2.2(1)**: The title of the Notebook **MUST** be contained in the Notebook Name.\n",
    "\n",
    "> **RULE 01.02–2.2(2)**: Heading Cells **MUST NOT** be used to contain the Notebook's title.\n",
    "\n",
    "> **RULE 01.02–2.2(3)**: By way of derogation from `Rule 01.02–2.2(2)`, the Notebook's title may be used in a Heading Cell where the Notebook is used as a Slideshow.\n",
    "\n",
    "**Commentary**\n",
    "\n",
    "This rule pertains to the practice of using Level One Headings as document titles."
   ]
  },
  {
   "cell_type": "markdown",
   "metadata": {},
   "source": [
    "## References"
   ]
  },
  {
   "cell_type": "markdown",
   "metadata": {},
   "source": [
    "> **RULE 01.02–2.3(1)**: A Notebook **MAY** have a separate Segment for references. If so, this **MUST** be a Level One Heading."
   ]
  },
  {
   "cell_type": "markdown",
   "metadata": {},
   "source": [
    "**Commentary**\n",
    "\n",
    "There is currently no perfect system for handling references in Notebooks, and like in GitHub-flavoured Markdown, the `[^<footnote-id>]` syntax is not honoured. The best way so far is to refer in texts using an academic format, e.g. `(Smith, 2018)`, then create a table of references according to a citation format (preferred: APA)."
   ]
  },
  {
   "cell_type": "code",
   "execution_count": null,
   "metadata": {},
   "outputs": [],
   "source": []
  }
 ],
 "metadata": {
  "kernelspec": {
   "display_name": "Python 3",
   "language": "python",
   "name": "python3"
  },
  "language_info": {
   "codemirror_mode": {
    "name": "ipython",
    "version": 3
   },
   "file_extension": ".py",
   "mimetype": "text/x-python",
   "name": "python",
   "nbconvert_exporter": "python",
   "pygments_lexer": "ipython3",
   "version": "3.6.5"
  },
  "toc": {
   "base_numbering": 1,
   "nav_menu": {},
   "number_sections": true,
   "sideBar": true,
   "skip_h1_title": false,
   "title_cell": "Table of Contents",
   "title_sidebar": "Contents",
   "toc_cell": false,
   "toc_position": {},
   "toc_section_display": true,
   "toc_window_display": false
  },
  "varInspector": {
   "cols": {
    "lenName": 16,
    "lenType": 16,
    "lenVar": 40
   },
   "kernels_config": {
    "python": {
     "delete_cmd_postfix": "",
     "delete_cmd_prefix": "del ",
     "library": "var_list.py",
     "varRefreshCmd": "print(var_dic_list())"
    },
    "r": {
     "delete_cmd_postfix": ") ",
     "delete_cmd_prefix": "rm(",
     "library": "var_list.r",
     "varRefreshCmd": "cat(var_dic_list()) "
    }
   },
   "types_to_exclude": [
    "module",
    "function",
    "builtin_function_or_method",
    "instance",
    "_Feature"
   ],
   "window_display": false
  }
 },
 "nbformat": 4,
 "nbformat_minor": 2
}
