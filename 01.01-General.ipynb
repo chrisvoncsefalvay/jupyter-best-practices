{
 "cells": [
  {
   "cell_type": "markdown",
   "metadata": {},
   "source": [
    "# Overriding principles"
   ]
  },
  {
   "cell_type": "markdown",
   "metadata": {},
   "source": [
    "The purpose of this document (the \"**Guidelines**\") is to lay out guiding principles for the **efficient**, **reliable** and **reproducible** use of Jupyter Notebooks."
   ]
  },
  {
   "cell_type": "markdown",
   "metadata": {},
   "source": [
    "Overriding principles constitute guiding principles that assist in the interpretation of the Rules. They do not constitute particular Rules themselves but rather an insight into the principles that motivate the rules themselves."
   ]
  },
  {
   "cell_type": "markdown",
   "metadata": {},
   "source": [
    "## OP01: Clarity"
   ]
  },
  {
   "cell_type": "markdown",
   "metadata": {},
   "source": [
    "**Notebooks shall exemplify clarity in code, expression, text and structure.**\n",
    "\n",
    "This extends to\n",
    "\n",
    "* clearly structured code;\n",
    "* clear and comprehensible language; and\n",
    "* a logical and coherent structure to the entire document.\n",
    "\n",
    "It is the responsibility of the author to use the most appropriate combination of elements, in view of their audience and the subject matter. Authors should continue to adhere to the stylistic conventions of scientific writing, such as eschewing passive voice and overly long sentences.\n",
    "\n",
    "_Detailed guidance_:"
   ]
  },
  {
   "cell_type": "markdown",
   "metadata": {},
   "source": [
    "## OP02: Reproducibility"
   ]
  },
  {
   "cell_type": "markdown",
   "metadata": {},
   "source": [
    "**Notebooks shall present reliably reproducible findings.**"
   ]
  },
  {
   "cell_type": "markdown",
   "metadata": {},
   "source": [
    "## OP03: Performance"
   ]
  },
  {
   "cell_type": "markdown",
   "metadata": {},
   "source": [
    "**Notebooks shall be designed to be performant, resource-efficient and utilise display resources efficiently.**"
   ]
  },
  {
   "cell_type": "markdown",
   "metadata": {},
   "source": [
    "## OP05: Adaptability"
   ]
  },
  {
   "cell_type": "markdown",
   "metadata": {},
   "source": [
    "**Notebooks shall be adaptable and facilitate transposition into production code whenever possible.**\n",
    "\n",
    "Subject to some exceptions, Notebooks should contain clean and usable code that is easily adapted into production code. Unless the Notebook was designed for teaching purposes, its author should encapsulate code in functions, methods and classes so that these could be 'lifted and shifted' into a production-grade Project.\n",
    "\n",
    "_Detailed guidance_:"
   ]
  },
  {
   "cell_type": "markdown",
   "metadata": {},
   "source": [
    "## OP06: Accessibility"
   ]
  },
  {
   "cell_type": "markdown",
   "metadata": {},
   "source": [
    "**Notebooks shall be accessible to all users, and employ universally accessible features, including appropriate colours and font sizes.**\n",
    "\n",
    "Authors should strive to make their Notebooks accessible to the widest possible audience. This includes removing barriers to use and comprehension. Particularly important is the use of colour schemes that do not exclude viewers with colour vision anomalies. \n",
    "\n",
    "_Detailed guidance_:"
   ]
  },
  {
   "cell_type": "markdown",
   "metadata": {},
   "source": [
    "# General part"
   ]
  },
  {
   "cell_type": "markdown",
   "metadata": {},
   "source": [
    "## Definitions"
   ]
  },
  {
   "cell_type": "markdown",
   "metadata": {},
   "source": [
    "### Incorporation by reference\n",
    "\n",
    "1. This document (the \"**Guidelines**\") comprises the present document, as well as the following documents incorporated therein by reference:\n",
    "\n",
    "    * 01\n",
    "    * 02"
   ]
  },
  {
   "cell_type": "markdown",
   "metadata": {},
   "source": [
    "### RFC 2119 notice\n",
    "\n",
    "1. The key words \"MUST\", \"MUST NOT\", \"REQUIRED\", \"SHALL\", \"SHALL NOT\", \"SHOULD\", \"SHOULD NOT\", \"RECOMMENDED\",  \"MAY\", and \"OPTIONAL\" in this document are to be interpreted as described in [RFC 2119](https://tools.ietf.org/html/rfc2119).\n",
    "\n",
    "1. In the sense of [RFC 8174](https://tools.ietf.org/html/rfc8174), and for the avoidance of doubt, the above applies only to capitalized terms."
   ]
  },
  {
   "cell_type": "markdown",
   "metadata": {},
   "source": [
    "## Interpretation"
   ]
  },
  {
   "cell_type": "markdown",
   "metadata": {},
   "source": [
    "### Interpretation of specific terms\n",
    "\n",
    "1. The authors of these Guidelines have strived to use gender neutral language wherever possible. Where this was not feasible, unless otherwise specified, the feminine implies the masculine (and vice versa). \n",
    "1. Unless otherwise indicated, the **plural includes the singular** (and vice versa).\n",
    "1. Where there is a conflict, **specific rules shall override more generic rules**.\n",
    "1. Where appropriate, references to Jupyter also include references to Notebooks in a Jupyterhub environment, IPython Notebooks, JupyterLab notebooks and other notebooks based on the same environment.\n",
    "1. For the avoidance of doubt, **bold** and _italic_ type serve only to improve legibility and do not affect the interpretation of the substantive terms."
   ]
  },
  {
   "cell_type": "markdown",
   "metadata": {},
   "source": [
    "### Defined terms\n",
    "\n",
    "Where capitalized, the following terms have the meaning as defined in this subsection.\n",
    "\n",
    "| Term                  | Definition                                                 |\n",
    "| ---                   | ---                                                        |\n",
    "| **Cell**              | Refers to a single unit that can be independently run/executed from other parts within a Notebook. |\n",
    "| **Kernel**<sup>1</sup>| Refers to an interpreter/compiler of a language available via Jupyter as a kernel applicable for an entire Notebook. Kernels are accessible through the `Kernel` menu item or as a choice in the `New...` dropdown. The ability to invoke shell scripts or accessing other languages (e.g. through `RPy2`) does not constitute a Kernel. |\n",
    "| **Kernel**<sup>2</sup>| Denotes an instance of Kernel<sup>1</sup>. |\n",
    "| **Notebook**          | Refers to a single self-contained entity comprised within a single `.ipynb` file. |\n",
    "| **Notebook Name**     | Denotes the file name of the Notebook, e.g. the Notebook Name of `/home/chris/test.ipynb` is `test`. |\n",
    "| **Project**           | Refers to a Notebook or collection of Notebooks held in a single folder, together with certain Project Files. |\n",
    "| **Project Files**     | Refer to non-Notebook files that provide resources or information pertaining to the entire Project rather than a specific Notebook. Includes, but is not limited to:<br/>`README.md`<br/>Requirements File<br/>CI configuration, e.g. Travis configuraion<br/>GitHub configuration files (`/.github` folder)|\n",
    "| **Requirements File** | A file outlining the packages required by the Project, usually named `requirements.txt` and intended to be supplied to `pip install -r` as an argument.|"
   ]
  },
  {
   "cell_type": "markdown",
   "metadata": {},
   "source": [
    "## Rules and commentary"
   ]
  },
  {
   "cell_type": "markdown",
   "metadata": {},
   "source": [
    "### Rules: definition"
   ]
  },
  {
   "cell_type": "markdown",
   "metadata": {},
   "source": [
    "Substantive rules are laid down in **Rules**. These **MUST BE** indented and marked with the bold prefix **`RULE`** and the Rule's number, as in the following (fictional) example:\n",
    "\n",
    "> **RULE 01.99–9.8.7(1)**: The text of the rule goes here."
   ]
  },
  {
   "cell_type": "markdown",
   "metadata": {},
   "source": [
    "Rules **MUST** occupy an individual cell."
   ]
  },
  {
   "cell_type": "markdown",
   "metadata": {},
   "source": [
    "### Numbering of Rules"
   ]
  },
  {
   "cell_type": "markdown",
   "metadata": {},
   "source": [
    "Rule identifiers are composed in the following format:\n",
    "\n",
    "    RULE <TITLE>.<SUBTITLE>–<CHAPTER>.<?SECTION>.<?SUBSECTION>(<RULE NUMBER>)\n",
    "\n",
    "* `TITLE` and `SUBTITLE` **MUST BE** formatted with a zero prefix, e.g. the `TITLE` of this Notebook is `01` and the `SUBTITLE` is also `01`.\n",
    "* The demarcator between the Title and Subtitle on one hand and the rest on the other **MUST BE** an 'em dash' (`–`) rather than a hyphen.\n",
    "* `CHAPTER`, `SECTION` and `SUBSECTION` numbers **MUST NOT** be prefaced by a zero.\n",
    "* Where a Rule is subordinate to a Chapter, the Section and Subsection **MUST NOT** be specified. Where a Rule is subordinate to a Section, the Subsection **MUST NOT** specified.\n",
    "* Rule Numbers are allocated subsequently. Rule numbers **MUST NOT** be subdivided (e.g. `(2.i)`) or expanded (`(2bis)`).\n",
    "* Rules **MAY** be inserted out of order. Later rules **MAY** be inserted into the same Chapter, Section or Subsection. Rules **MUST NOT** be renumbered."
   ]
  },
  {
   "cell_type": "markdown",
   "metadata": {},
   "source": [
    "### Commentary"
   ]
  },
  {
   "cell_type": "markdown",
   "metadata": {},
   "source": [
    "Rules may be followed by Commentary in the same Cell, designated as such. These are aids to interpretation and comments on the principal Rule but do not hold the weight of a Rule. In the case of a conflict, the Rule **MUST** prevail."
   ]
  },
  {
   "cell_type": "markdown",
   "metadata": {},
   "source": []
  }
 ],
 "metadata": {
  "kernelspec": {
   "display_name": "Python 3",
   "language": "python",
   "name": "python3"
  },
  "language_info": {
   "codemirror_mode": {
    "name": "ipython",
    "version": 3
   },
   "file_extension": ".py",
   "mimetype": "text/x-python",
   "name": "python",
   "nbconvert_exporter": "python",
   "pygments_lexer": "ipython3",
   "version": "3.6.5"
  },
  "toc": {
   "base_numbering": 1,
   "nav_menu": {},
   "number_sections": true,
   "sideBar": true,
   "skip_h1_title": false,
   "title_cell": "Table of Contents",
   "title_sidebar": "Contents",
   "toc_cell": false,
   "toc_position": {},
   "toc_section_display": true,
   "toc_window_display": false
  },
  "varInspector": {
   "cols": {
    "lenName": 16,
    "lenType": 16,
    "lenVar": 40
   },
   "kernels_config": {
    "python": {
     "delete_cmd_postfix": "",
     "delete_cmd_prefix": "del ",
     "library": "var_list.py",
     "varRefreshCmd": "print(var_dic_list())"
    },
    "r": {
     "delete_cmd_postfix": ") ",
     "delete_cmd_prefix": "rm(",
     "library": "var_list.r",
     "varRefreshCmd": "cat(var_dic_list()) "
    }
   },
   "types_to_exclude": [
    "module",
    "function",
    "builtin_function_or_method",
    "instance",
    "_Feature"
   ],
   "window_display": false
  }
 },
 "nbformat": 4,
 "nbformat_minor": 2
}
